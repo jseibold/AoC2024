{
 "cells": [
  {
   "cell_type": "code",
   "execution_count": 13,
   "metadata": {},
   "outputs": [],
   "source": [
    "import numpy as np"
   ]
  },
  {
   "cell_type": "markdown",
   "metadata": {},
   "source": [
    "# read data"
   ]
  },
  {
   "cell_type": "code",
   "execution_count": null,
   "metadata": {},
   "outputs": [],
   "source": [
    "updates = []\n",
    "with open('data/d5_updates.csv', 'r') as file:\n",
    "    for row in file:\n",
    "        line = list(map(int, row.split(',')))\n",
    "        updates.append(line)\n",
    "\n",
    "updates[0:2]"
   ]
  },
  {
   "cell_type": "code",
   "execution_count": null,
   "metadata": {},
   "outputs": [],
   "source": [
    "rules = []\n",
    "with open('data/d5_rules.csv', 'r') as file:\n",
    "    for row in file:\n",
    "        line = list(map(int, row.split('|')))\n",
    "        rules.append(np.array(line))\n",
    "\n",
    "rules[0:2]"
   ]
  },
  {
   "cell_type": "markdown",
   "metadata": {},
   "source": [
    "# check update for rules"
   ]
  },
  {
   "cell_type": "code",
   "execution_count": null,
   "metadata": {},
   "outputs": [],
   "source": [
    "successful_updates = []\n",
    "\n",
    "for update in updates:\n",
    "    successful_rules_counter=0\n",
    "    all_elements_check_counter=0\n",
    "\n",
    "    for i ,rule in enumerate(rules):\n",
    "        # is this rule relevant: aka are both values of the rule within the current update?\n",
    "        check = all(r in update for r in rule)\n",
    "\n",
    "        # if the current rule is relevant:\n",
    "        # does the order of the rule numbers match the order within the update?\n",
    "        if check == True:\n",
    "            all_elements_check_counter+=1\n",
    "            index_rule_element_0 = np.where(update ==rule[0])\n",
    "            index_rule_element_1 = np.where(update ==rule[1])\n",
    "\n",
    "            if index_rule_element_0 < index_rule_element_1:\n",
    "                successful_rules_counter+=1\n",
    "\n",
    "    # can all relevant rules be successfully applied? Then add update to success-list\n",
    "    if successful_rules_counter == all_elements_check_counter:\n",
    "        successful_updates.append(update)\n",
    "\n",
    "\n",
    "\n",
    "middle_numbers = []\n",
    "\n",
    "for u in successful_updates:\n",
    "    middle_index= len(u)//2\n",
    "    middle_numbers.append(u[middle_index])\n",
    "\n",
    "print(f'The result is {np.sum(middle_numbers)}')"
   ]
  }
 ],
 "metadata": {
  "kernelspec": {
   "display_name": "Python 3",
   "language": "python",
   "name": "python3"
  },
  "language_info": {
   "codemirror_mode": {
    "name": "ipython",
    "version": 3
   },
   "file_extension": ".py",
   "mimetype": "text/x-python",
   "name": "python",
   "nbconvert_exporter": "python",
   "pygments_lexer": "ipython3",
   "version": "3.10.12"
  }
 },
 "nbformat": 4,
 "nbformat_minor": 2
}

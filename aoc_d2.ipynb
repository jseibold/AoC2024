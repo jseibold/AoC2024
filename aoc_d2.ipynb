{
 "cells": [
  {
   "cell_type": "code",
   "execution_count": 1,
   "metadata": {},
   "outputs": [],
   "source": [
    "import pandas as pd\n",
    "import numpy as np"
   ]
  },
  {
   "cell_type": "code",
   "execution_count": null,
   "metadata": {},
   "outputs": [],
   "source": [
    "data = []\n",
    "with open('data/d2.csv', 'r') as file:\n",
    "    for line in file:\n",
    "        # Split the line by whitespace and convert to integers\n",
    "        row = list(map(int, line.split()))\n",
    "        data.append(row)\n",
    "\n",
    "data[0:4]"
   ]
  },
  {
   "cell_type": "code",
   "execution_count": null,
   "metadata": {},
   "outputs": [],
   "source": [
    "no_safe_arrays=0\n",
    "\n",
    "for no in range(0, len(data)):\n",
    "    row = data[no]\n",
    "    print(row)\n",
    "\n",
    "    if row[0] < row[1]:\n",
    "        counter_asc=0\n",
    "\n",
    "        for i in range(0, len(row)-1):\n",
    "            if ((row[i+1] - row[i]) <= 3) and ((row[i+1] - row[i]) > 0):\n",
    "                counter_asc +=1\n",
    "\n",
    "        if counter_asc==(len(row)-1):\n",
    "            print(counter_asc)\n",
    "            no_safe_arrays +=1\n",
    "\n",
    "    elif row[0] > row[1]:\n",
    "        counter_desc=0\n",
    "        for i in range(0, len(row)-1):\n",
    "\n",
    "            if ((row[i] - row[i+1]) <= 3) and ((row[i] - row[i+1]) > 0):\n",
    "                counter_desc +=1\n",
    "\n",
    "\n",
    "        if counter_desc==(len(row)-1):\n",
    "            print(counter_desc)\n",
    "            no_safe_arrays +=1\n",
    "\n",
    "\n",
    "\n",
    "print('no_safe_arrays', no_safe_arrays)"
   ]
  },
  {
   "cell_type": "code",
   "execution_count": null,
   "metadata": {},
   "outputs": [],
   "source": [
    "no_safe_arrays_nice = 0\n",
    "\n",
    "for row in data:\n",
    "    row = np.array(row)\n",
    "\n",
    "    diffs = np.diff(row)\n",
    "\n",
    "    if row[0] < row[1]:\n",
    "        if np.all((diffs > 0) & (diffs <= 3)):\n",
    "            no_safe_arrays_nice += 1\n",
    "    elif row[0] > row[1]:\n",
    "        if np.all((diffs < 0) & (diffs >= -3)):\n",
    "            no_safe_arrays_nice += 1\n",
    "\n",
    "print('no_safe_arrays_nice', no_safe_arrays_nice)"
   ]
  }
 ],
 "metadata": {
  "kernelspec": {
   "display_name": "Python 3",
   "language": "python",
   "name": "python3"
  },
  "language_info": {
   "codemirror_mode": {
    "name": "ipython",
    "version": 3
   },
   "file_extension": ".py",
   "mimetype": "text/x-python",
   "name": "python",
   "nbconvert_exporter": "python",
   "pygments_lexer": "ipython3",
   "version": "3.10.12"
  }
 },
 "nbformat": 4,
 "nbformat_minor": 2
}

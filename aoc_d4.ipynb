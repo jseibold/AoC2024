{
 "cells": [
  {
   "cell_type": "code",
   "execution_count": 1,
   "metadata": {},
   "outputs": [],
   "source": [
    "import numpy as np\n",
    "import re"
   ]
  },
  {
   "cell_type": "code",
   "execution_count": 1,
   "metadata": {},
   "outputs": [],
   "source": [
    "data_long=[]\n",
    "data_sep=[]\n",
    "with open('data/d4.csv', 'r') as file:\n",
    "    for line in file:\n",
    "\n",
    "        row=line.split()\n",
    "        data_long.append(row)\n",
    "\n",
    "        row_list = list(row[0])\n",
    "        data_sep.append(row_list)\n"
   ]
  },
  {
   "cell_type": "code",
   "execution_count": 4,
   "metadata": {},
   "outputs": [],
   "source": [
    "# count XMAS forward\n",
    "\n",
    "def count_forward_backward(data):\n",
    "    xmases_left_right = 0\n",
    "    xmases_right_left = 0\n",
    "\n",
    "    pattern_left_right =r'XMAS'\n",
    "    pattern_right_left =r'SAMX'\n",
    "    for r in data:\n",
    "        xmases_lr = re.findall(pattern_left_right, r[0])\n",
    "        xmases_left_right +=len(xmases_lr)\n",
    "\n",
    "        xmases_rl = re.findall(pattern_right_left, r[0])\n",
    "        xmases_right_left +=len(xmases_rl)\n",
    "\n",
    "\n",
    "    return xmases_left_right + xmases_right_left"
   ]
  },
  {
   "cell_type": "markdown",
   "metadata": {},
   "source": [
    "# horizontal"
   ]
  },
  {
   "cell_type": "code",
   "execution_count": 5,
   "metadata": {},
   "outputs": [
    {
     "data": {
      "text/plain": [
       "421"
      ]
     },
     "execution_count": 5,
     "metadata": {},
     "output_type": "execute_result"
    }
   ],
   "source": [
    "count_horizontal = count_forward_backward(data_long)\n",
    "count_horizontal"
   ]
  },
  {
   "cell_type": "markdown",
   "metadata": {},
   "source": [
    "# vertical"
   ]
  },
  {
   "cell_type": "code",
   "execution_count": 6,
   "metadata": {},
   "outputs": [],
   "source": [
    "# make rows to columns\n",
    "data_sep_t = np.transpose(data_sep)\n",
    "# make strings out of whole row\n",
    "data_sep_t_long=[[''.join(row)] for row in data_sep_t]"
   ]
  },
  {
   "cell_type": "code",
   "execution_count": 7,
   "metadata": {},
   "outputs": [
    {
     "data": {
      "text/plain": [
       "495"
      ]
     },
     "execution_count": 7,
     "metadata": {},
     "output_type": "execute_result"
    }
   ],
   "source": [
    "count_vertical = count_forward_backward(data_sep_t_long)\n",
    "count_vertical"
   ]
  },
  {
   "cell_type": "markdown",
   "metadata": {},
   "source": [
    "# diagonal"
   ]
  },
  {
   "cell_type": "code",
   "execution_count": 8,
   "metadata": {},
   "outputs": [],
   "source": [
    "# diagonal\n",
    "len_diags = len(data_sep)-4\n",
    "diag_data = []\n",
    "for d in range(-len_diags, len_diags):\n",
    "    diagonal_row = np.diag(data_sep, d)\n",
    "    diag_data.append(diagonal_row)\n"
   ]
  },
  {
   "cell_type": "code",
   "execution_count": 17,
   "metadata": {},
   "outputs": [],
   "source": [
    "diag_data_long = [[''.join(row)] for row in diag_data]\n"
   ]
  },
  {
   "cell_type": "code",
   "execution_count": 10,
   "metadata": {},
   "outputs": [
    {
     "data": {
      "text/plain": [
       "866"
      ]
     },
     "execution_count": 10,
     "metadata": {},
     "output_type": "execute_result"
    }
   ],
   "source": [
    "count_diagonal = count_forward_backward(diag_data_long)\n",
    "count_diagonal\n"
   ]
  },
  {
   "cell_type": "markdown",
   "metadata": {},
   "source": [
    "# reversed diagonal"
   ]
  },
  {
   "cell_type": "code",
   "execution_count": 18,
   "metadata": {},
   "outputs": [],
   "source": [
    "flipped_data_sep = np.flip(data_sep, axis=1)"
   ]
  },
  {
   "cell_type": "code",
   "execution_count": 19,
   "metadata": {},
   "outputs": [],
   "source": [
    "len_diag = len(data_long)-4\n",
    "\n",
    "flipped_diag_data=[]\n",
    "for d in range(-len_diag, len_diag):\n",
    "    row = np.diag(flipped_data_sep, d)\n",
    "    flipped_diag_data.append(row)"
   ]
  },
  {
   "cell_type": "code",
   "execution_count": 20,
   "metadata": {},
   "outputs": [],
   "source": [
    "flipped_diag_data_long = [[''.join(row)] for row in flipped_diag_data]"
   ]
  },
  {
   "cell_type": "code",
   "execution_count": 14,
   "metadata": {},
   "outputs": [
    {
     "data": {
      "text/plain": [
       "903"
      ]
     },
     "execution_count": 14,
     "metadata": {},
     "output_type": "execute_result"
    }
   ],
   "source": [
    "count_reverse_diagonal=count_forward_backward(flipped_diag_data_long)\n",
    "count_reverse_diagonal"
   ]
  },
  {
   "cell_type": "markdown",
   "metadata": {},
   "source": [
    "# RESULT"
   ]
  },
  {
   "cell_type": "code",
   "execution_count": 15,
   "metadata": {},
   "outputs": [
    {
     "data": {
      "text/plain": [
       "2685"
      ]
     },
     "execution_count": 15,
     "metadata": {},
     "output_type": "execute_result"
    }
   ],
   "source": [
    "count_horizontal + count_vertical + count_diagonal + count_reverse_diagonal"
   ]
  }
 ],
 "metadata": {
  "kernelspec": {
   "display_name": "Python 3",
   "language": "python",
   "name": "python3"
  },
  "language_info": {
   "codemirror_mode": {
    "name": "ipython",
    "version": 3
   },
   "file_extension": ".py",
   "mimetype": "text/x-python",
   "name": "python",
   "nbconvert_exporter": "python",
   "pygments_lexer": "ipython3",
   "version": "3.10.12"
  }
 },
 "nbformat": 4,
 "nbformat_minor": 2
}

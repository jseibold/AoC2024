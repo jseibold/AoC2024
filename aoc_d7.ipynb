{
 "cells": [
  {
   "cell_type": "code",
   "execution_count": 1,
   "metadata": {},
   "outputs": [],
   "source": [
    "import numpy as np\n",
    "import itertools"
   ]
  },
  {
   "cell_type": "code",
   "execution_count": 2,
   "metadata": {},
   "outputs": [
    {
     "data": {
      "text/plain": [
       "{3267: (81, 40, 27),\n",
       " 190: (10, 19),\n",
       " 83: (17, 5),\n",
       " 156: (15, 6),\n",
       " 7290: (6, 8, 6, 15),\n",
       " 161011: (16, 10, 13),\n",
       " 192: (17, 8, 14),\n",
       " 21037: (9, 7, 18, 13),\n",
       " 292: (11, 6, 16, 20)}"
      ]
     },
     "execution_count": 2,
     "metadata": {},
     "output_type": "execute_result"
    }
   ],
   "source": [
    "data = {}\n",
    "\n",
    "with open('data/d7_test.csv', 'r') as file:\n",
    "    for line in file:\n",
    "        splitted = line.split(':')\n",
    "        result = int(splitted[0])\n",
    "\n",
    "        function_components_raw = splitted[1].strip().split(' ')\n",
    "        function_components = [int(item) for item in function_components_raw]\n",
    "\n",
    "        data[result]= tuple(function_components)\n",
    "\n",
    "data"
   ]
  },
  {
   "cell_type": "code",
   "execution_count": 38,
   "metadata": {},
   "outputs": [],
   "source": [
    "def try_all_operators(data):\n",
    "    results = data.keys()\n",
    "    final_list_of_successful_equation_results=[]\n",
    "    func_result=0\n",
    "\n",
    "    for key in results:\n",
    "        function_components = data[key]\n",
    "        possible_operator_combinations = list(itertools.product('+*', (len(function_components))-1))\n",
    "        print(function_components)\n",
    "        print(possible_operator_combinations)\n",
    "        result = key\n",
    "\n",
    "        for combi in possible_operator_combinations:\n",
    "            i = 0\n",
    "            for i in range(0,len(possible_operator_combinations)-1):\n",
    "                if i ==0:\n",
    "                    f_res = f\"{function_components[0]} {combi[0]} {function_components[i+1]}\"\n",
    "\n",
    "                elif i > 0:\n",
    "                    f_res = f\"({f_res}) {combi[i]} {function_components[i+1]}\"\n",
    "\n",
    "            func_result = eval(f_res)\n",
    "            print(f_res, func_result)\n",
    "\n",
    "\n",
    "            if func_result == result:\n",
    "                final_list_of_successful_equation_results.append(result)\n",
    "            #    print('successs', funcstring, '=', result)\n",
    "\n",
    "    return final_list_of_successful_equation_results"
   ]
  },
  {
   "cell_type": "code",
   "execution_count": 39,
   "metadata": {},
   "outputs": [
    {
     "ename": "TypeError",
     "evalue": "'int' object is not iterable",
     "output_type": "error",
     "traceback": [
      "\u001b[0;31m---------------------------------------------------------------------------\u001b[0m",
      "\u001b[0;31mTypeError\u001b[0m                                 Traceback (most recent call last)",
      "Cell \u001b[0;32mIn[39], line 1\u001b[0m\n\u001b[0;32m----> 1\u001b[0m l \u001b[38;5;241m=\u001b[39m \u001b[43mtry_all_operators\u001b[49m\u001b[43m(\u001b[49m\u001b[43mdata\u001b[49m\u001b[43m)\u001b[49m\n\u001b[1;32m      2\u001b[0m l\n",
      "Cell \u001b[0;32mIn[38], line 8\u001b[0m, in \u001b[0;36mtry_all_operators\u001b[0;34m(data)\u001b[0m\n\u001b[1;32m      6\u001b[0m \u001b[38;5;28;01mfor\u001b[39;00m key \u001b[38;5;129;01min\u001b[39;00m results:\n\u001b[1;32m      7\u001b[0m     function_components \u001b[38;5;241m=\u001b[39m data[key]\n\u001b[0;32m----> 8\u001b[0m     possible_operator_combinations \u001b[38;5;241m=\u001b[39m \u001b[38;5;28mlist\u001b[39m(\u001b[43mitertools\u001b[49m\u001b[38;5;241;43m.\u001b[39;49m\u001b[43mproduct\u001b[49m\u001b[43m(\u001b[49m\u001b[38;5;124;43m'\u001b[39;49m\u001b[38;5;124;43m+*\u001b[39;49m\u001b[38;5;124;43m'\u001b[39;49m\u001b[43m,\u001b[49m\u001b[43m \u001b[49m\u001b[43m(\u001b[49m\u001b[38;5;28;43mlen\u001b[39;49m\u001b[43m(\u001b[49m\u001b[43mfunction_components\u001b[49m\u001b[43m)\u001b[49m\u001b[43m)\u001b[49m\u001b[38;5;241;43m-\u001b[39;49m\u001b[38;5;241;43m1\u001b[39;49m\u001b[43m)\u001b[49m)\n\u001b[1;32m      9\u001b[0m     \u001b[38;5;28mprint\u001b[39m(function_components)\n\u001b[1;32m     10\u001b[0m     \u001b[38;5;28mprint\u001b[39m(possible_operator_combinations)\n",
      "\u001b[0;31mTypeError\u001b[0m: 'int' object is not iterable"
     ]
    }
   ],
   "source": [
    "l = try_all_operators(data)\n",
    "l"
   ]
  },
  {
   "cell_type": "code",
   "execution_count": 10,
   "metadata": {},
   "outputs": [
    {
     "data": {
      "text/plain": [
       "148"
      ]
     },
     "execution_count": 10,
     "metadata": {},
     "output_type": "execute_result"
    }
   ],
   "source": [
    "81 + 40 + 27"
   ]
  },
  {
   "cell_type": "code",
   "execution_count": 11,
   "metadata": {},
   "outputs": [
    {
     "data": {
      "text/plain": [
       "1161"
      ]
     },
     "execution_count": 11,
     "metadata": {},
     "output_type": "execute_result"
    }
   ],
   "source": [
    "81 + 40 * 27"
   ]
  },
  {
   "cell_type": "code",
   "execution_count": 29,
   "metadata": {},
   "outputs": [],
   "source": [
    "def try_all_operators(data):\n",
    "    results = data.keys()\n",
    "    final_list_of_successful_equation_results=[]\n",
    "\n",
    "    for key in results:\n",
    "        function_components = data[key]\n",
    "        possible_operator_combinations = list(itertools.combinations_with_replacement('+*', (len(function_components)-1)))\n",
    "        result = key\n",
    "\n",
    "        for combi in possible_operator_combinations:\n",
    "            func = tuple(itertools.zip_longest(function_components, combi, fillvalue=''))\n",
    "            print(func)\n",
    "            funcstring = ' '.join(f\"){num} {char} (\" for num, char in func)\n",
    "            print(funcstring)\n",
    "            func_result = eval(funcstring)\n",
    "            print(funcstring, '=', result)\n",
    "\n",
    "            if func_result == result:\n",
    "                final_list_of_successful_equation_results.append(result)\n",
    "                print('successs', funcstring, '=', result)\n",
    "\n",
    "\n",
    "    return final_list_of_successful_equation_results"
   ]
  },
  {
   "cell_type": "code",
   "execution_count": 30,
   "metadata": {},
   "outputs": [
    {
     "name": "stdout",
     "output_type": "stream",
     "text": [
      "((81, '+'), (40, '+'), (27, ''))\n",
      ")81 + ( )40 + ( )27  (\n"
     ]
    },
    {
     "ename": "SyntaxError",
     "evalue": "unmatched ')' (<string>, line 1)",
     "output_type": "error",
     "traceback": [
      "Traceback \u001b[0;36m(most recent call last)\u001b[0m:\n",
      "\u001b[0m  File \u001b[1;32m~/.local/lib/python3.10/site-packages/IPython/core/interactiveshell.py:3577\u001b[0m in \u001b[1;35mrun_code\u001b[0m\n    exec(code_obj, self.user_global_ns, self.user_ns)\u001b[0m\n",
      "\u001b[0m  Cell \u001b[1;32mIn[30], line 1\u001b[0m\n    l = try_all_operators(data)\u001b[0m\n",
      "\u001b[0;36m  Cell \u001b[0;32mIn[29], line 15\u001b[0;36m in \u001b[0;35mtry_all_operators\u001b[0;36m\n\u001b[0;31m    func_result = eval(funcstring)\u001b[0;36m\n",
      "\u001b[0;36m  File \u001b[0;32m<string>:1\u001b[0;36m\u001b[0m\n\u001b[0;31m    )81 + ( )40 + ( )27  (\u001b[0m\n\u001b[0m    ^\u001b[0m\n\u001b[0;31mSyntaxError\u001b[0m\u001b[0;31m:\u001b[0m unmatched ')'\n"
     ]
    }
   ],
   "source": [
    "l = try_all_operators(data)\n",
    "l"
   ]
  }
 ],
 "metadata": {
  "kernelspec": {
   "display_name": "Python 3",
   "language": "python",
   "name": "python3"
  },
  "language_info": {
   "codemirror_mode": {
    "name": "ipython",
    "version": 3
   },
   "file_extension": ".py",
   "mimetype": "text/x-python",
   "name": "python",
   "nbconvert_exporter": "python",
   "pygments_lexer": "ipython3",
   "version": "3.10.12"
  }
 },
 "nbformat": 4,
 "nbformat_minor": 2
}

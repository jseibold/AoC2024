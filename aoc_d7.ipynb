{
 "cells": [
  {
   "cell_type": "code",
   "execution_count": 7,
   "metadata": {},
   "outputs": [],
   "source": [
    "import numpy as np\n",
    "import itertools"
   ]
  },
  {
   "cell_type": "code",
   "execution_count": 8,
   "metadata": {},
   "outputs": [],
   "source": [
    "data = {}\n",
    "\n",
    "with open('data/d7.csv', 'r') as file:\n",
    "    for line in file:\n",
    "        splitted = line.split(':')\n",
    "        result = int(splitted[0])\n",
    "\n",
    "        function_components_raw = splitted[1].strip().split(' ')\n",
    "        function_components = [int(item) for item in function_components_raw]\n",
    "\n",
    "        data[result]= tuple(function_components)"
   ]
  },
  {
   "cell_type": "code",
   "execution_count": 9,
   "metadata": {},
   "outputs": [],
   "source": [
    "def try_all_operators(data):\n",
    "    results = data.keys()\n",
    "    final_list_of_successful_equation_results=[]\n",
    "    func_result=0\n",
    "\n",
    "    for key in results:\n",
    "        function_components = data[key]\n",
    "        possible_operator_combinations = list(itertools.product(['+', '*'], repeat=((len(function_components))-1)))\n",
    "        result = key\n",
    "\n",
    "        for combi in possible_operator_combinations:\n",
    "            i = 0\n",
    "            for i in range(0,len(function_components)-1):\n",
    "                if i ==0:\n",
    "                    f_res = f\"{function_components[0]} {combi[0]} {function_components[i+1]}\"\n",
    "\n",
    "                elif i > 0:\n",
    "                    f_res = f\"({f_res}) {combi[i]} {function_components[i+1]}\"\n",
    "\n",
    "            func_result = eval(f_res)\n",
    "\n",
    "            if func_result == result:\n",
    "                final_list_of_successful_equation_results.append(result)\n",
    "                break\n",
    "\n",
    "    return final_list_of_successful_equation_results"
   ]
  },
  {
   "cell_type": "code",
   "execution_count": null,
   "metadata": {},
   "outputs": [],
   "source": [
    "l = try_all_operators(data)\n",
    "print(l)\n",
    "sum(l)"
   ]
  }
 ],
 "metadata": {
  "kernelspec": {
   "display_name": "Python 3",
   "language": "python",
   "name": "python3"
  },
  "language_info": {
   "codemirror_mode": {
    "name": "ipython",
    "version": 3
   },
   "file_extension": ".py",
   "mimetype": "text/x-python",
   "name": "python",
   "nbconvert_exporter": "python",
   "pygments_lexer": "ipython3",
   "version": "3.10.12"
  }
 },
 "nbformat": 4,
 "nbformat_minor": 2
}

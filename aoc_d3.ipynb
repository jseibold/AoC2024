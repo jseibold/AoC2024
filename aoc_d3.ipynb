{
 "cells": [
  {
   "cell_type": "code",
   "execution_count": 1,
   "metadata": {},
   "outputs": [],
   "source": [
    "import numpy as np\n",
    "import re\n"
   ]
  },
  {
   "cell_type": "code",
   "execution_count": 7,
   "metadata": {},
   "outputs": [
    {
     "name": "stdout",
     "output_type": "stream",
     "text": [
      "182780583\n"
     ]
    }
   ],
   "source": [
    "with open('d3.csv', 'r') as file:\n",
    "    data = file.read()\n",
    "\n",
    "\n",
    "pattern = r'mul\\(\\d+,\\d+\\)'\n",
    "\n",
    "# Find all valid mul(x,y) statements\n",
    "valid_statements = re.findall(pattern, data)\n",
    "\n",
    "\n",
    "summed = 0\n",
    "for r in valid_statements:\n",
    "    r = r.replace('mul','np.multiply')\n",
    "    number = eval(r)\n",
    "    summed += number\n",
    "\n",
    "print(summed)"
   ]
  }
 ],
 "metadata": {
  "kernelspec": {
   "display_name": "Python 3",
   "language": "python",
   "name": "python3"
  },
  "language_info": {
   "codemirror_mode": {
    "name": "ipython",
    "version": 3
   },
   "file_extension": ".py",
   "mimetype": "text/x-python",
   "name": "python",
   "nbconvert_exporter": "python",
   "pygments_lexer": "ipython3",
   "version": "3.10.12"
  }
 },
 "nbformat": 4,
 "nbformat_minor": 2
}

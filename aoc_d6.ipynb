{
 "cells": [
  {
   "cell_type": "code",
   "execution_count": 1,
   "metadata": {},
   "outputs": [],
   "source": [
    "import numpy as np"
   ]
  },
  {
   "cell_type": "code",
   "execution_count": 2,
   "metadata": {},
   "outputs": [
    {
     "data": {
      "text/plain": [
       "array([['.', '.', '.', '.', '#', '.', '.', '.', '.', '.'],\n",
       "       ['.', '.', '.', '.', '.', '.', '.', '.', '.', '#'],\n",
       "       ['.', '.', '.', '.', '.', '.', '.', '.', '.', '.'],\n",
       "       ['.', '.', '#', '.', '.', '.', '.', '.', '.', '.'],\n",
       "       ['.', '.', '.', '.', '.', '.', '.', '#', '.', '.'],\n",
       "       ['.', '.', '.', '.', '.', '.', '.', '.', '.', '.'],\n",
       "       ['.', '#', '.', '.', '^', '.', '.', '.', '.', '.'],\n",
       "       ['.', '.', '.', '.', '.', '.', '.', '.', '#', '.'],\n",
       "       ['#', '.', '.', '.', '.', '.', '.', '.', '.', '.'],\n",
       "       ['.', '.', '.', '.', '.', '.', '#', '.', '.', '.']], dtype='<U1')"
      ]
     },
     "execution_count": 2,
     "metadata": {},
     "output_type": "execute_result"
    }
   ],
   "source": [
    "floor = []\n",
    "\n",
    "with open('data/d6.csv') as file:\n",
    "    for line in file:\n",
    "        row = line.split()\n",
    "\n",
    "        row_list= list(row[0])\n",
    "\n",
    "        floor.append(row_list)\n",
    "\n",
    "floor = np.array(floor)\n",
    "floor"
   ]
  },
  {
   "cell_type": "code",
   "execution_count": 3,
   "metadata": {},
   "outputs": [
    {
     "data": {
      "text/plain": [
       "array([[0, 4],\n",
       "       [1, 9],\n",
       "       [3, 2],\n",
       "       [4, 7],\n",
       "       [6, 1],\n",
       "       [7, 8],\n",
       "       [8, 0],\n",
       "       [9, 6]])"
      ]
     },
     "execution_count": 3,
     "metadata": {},
     "output_type": "execute_result"
    }
   ],
   "source": [
    "def get_obstacle_location_list(floor):\n",
    "    obstacles = np.where(floor=='#')\n",
    "    obstacles = np.transpose(obstacles)\n",
    "    return obstacles\n",
    "\n",
    "obstacles = get_obstacle_location_list(floor)\n",
    "obstacles"
   ]
  },
  {
   "cell_type": "code",
   "execution_count": 4,
   "metadata": {},
   "outputs": [],
   "source": [
    "def go_up(floor, obstacles):\n",
    "    current_location = np.where(floor == '^')\n",
    "    current_location = np.transpose(current_location)\n",
    "\n",
    "    row = current_location[0][0]\n",
    "    col = current_location[0][1]\n",
    "\n",
    "    # set current location to X\n",
    "    floor[row, col] = 'X'\n",
    "\n",
    "    locations=[]\n",
    "    step = np.empty([])\n",
    "\n",
    "    while True:\n",
    "        row = row - 1\n",
    "        step = np.array([row, col])\n",
    "\n",
    "        if np.any(np.all(obstacles == step, axis=1)):\n",
    "            row += 1\n",
    "            floor[row, col] = '>' # turn 90 clockwise\n",
    "            break\n",
    "        elif row < 0 or row >= floor.shape[0]:\n",
    "            # Check if the step is out of the floor bounds\n",
    "            break\n",
    "        else:\n",
    "            locations.append(step)\n",
    "            floor[row, col] = 'X'\n",
    "\n",
    "    updated_floor = floor\n",
    "    print('went up')\n",
    "    return updated_floor\n"
   ]
  },
  {
   "cell_type": "code",
   "execution_count": 5,
   "metadata": {},
   "outputs": [],
   "source": [
    "def go_down(floor, obstacles):\n",
    "    current_location = np.where(floor == 'v')\n",
    "    current_location = np.transpose(current_location)\n",
    "\n",
    "    row = current_location[0][0]\n",
    "    col = current_location[0][1]\n",
    "\n",
    "    # set current location to X\n",
    "    floor[row, col] = 'X'\n",
    "\n",
    "    locations=[]\n",
    "    step = np.empty([])\n",
    "\n",
    "    while True:\n",
    "        row = row + 1\n",
    "        step = np.array([row, col])\n",
    "\n",
    "        if np.any(np.all(obstacles == step, axis=1)):\n",
    "            row -= 1\n",
    "            floor[row, col] = '<' # turn 90 defrees clockwise\n",
    "            break\n",
    "        elif row < 0 or row >= floor.shape[0]:\n",
    "            # Check if the step is out of the floor bounds\n",
    "            break\n",
    "        else:\n",
    "            locations.append(step)\n",
    "            floor[row, col] = 'X'\n",
    "\n",
    "    updated_floor = floor\n",
    "    print('went down')\n",
    "    return updated_floor"
   ]
  },
  {
   "cell_type": "code",
   "execution_count": 6,
   "metadata": {},
   "outputs": [],
   "source": [
    "def go_right(floor, obstacles):\n",
    "    current_location = np.where(floor == '>')\n",
    "    current_location = np.transpose(current_location)\n",
    "\n",
    "    row = current_location[0][0]\n",
    "    col = current_location[0][1]\n",
    "\n",
    "    # set current location to X\n",
    "    floor[row, col] = 'X'\n",
    "\n",
    "    locations=[]\n",
    "    step = np.empty([])\n",
    "\n",
    "    while True:\n",
    "        col = col + 1\n",
    "        step = np.array([row, col])\n",
    "\n",
    "        if np.any(np.all(obstacles == step, axis=1)):\n",
    "            col -= 1\n",
    "            floor[row, col] = 'v' # turn 90 defrees clockwise\n",
    "            break\n",
    "        elif col < 0 or col >= floor.shape[1]:\n",
    "            # Check if the step is out of the floor bounds\n",
    "            break\n",
    "        else:\n",
    "            locations.append(step)\n",
    "            floor[row, col] = 'X'\n",
    "\n",
    "    updated_floor = floor\n",
    "    print('went right')\n",
    "    return updated_floor"
   ]
  },
  {
   "cell_type": "code",
   "execution_count": 7,
   "metadata": {},
   "outputs": [],
   "source": [
    "def go_left(floor, obstacles):\n",
    "    current_location = np.where(floor == '<')\n",
    "    current_location = np.transpose(current_location)\n",
    "\n",
    "    row = current_location[0][0]\n",
    "    col = current_location[0][1]\n",
    "\n",
    "    # set current location to X\n",
    "    floor[row, col] = 'X'\n",
    "\n",
    "    locations=[]\n",
    "    step = np.empty([])\n",
    "\n",
    "    while True:\n",
    "        col = col - 1\n",
    "        step = np.array([row, col])\n",
    "\n",
    "        if np.any(np.all(obstacles == step, axis=1)):\n",
    "            col += 1\n",
    "            floor[row, col] = '^' # turn 90 defrees clockwise\n",
    "            break\n",
    "        elif col < 0 or col >= floor.shape[1]:\n",
    "            # Check if the step is out of the floor bounds\n",
    "            break\n",
    "        else:\n",
    "            locations.append(step)\n",
    "            floor[row, col] = 'X'\n",
    "\n",
    "    updated_floor = floor\n",
    "    print('went left')\n",
    "    return updated_floor"
   ]
  },
  {
   "cell_type": "code",
   "execution_count": 8,
   "metadata": {},
   "outputs": [
    {
     "name": "stdout",
     "output_type": "stream",
     "text": [
      "went up\n",
      "went right\n",
      "went down\n",
      "went left\n",
      "went up\n",
      "went right\n",
      "went down\n",
      "went left\n",
      "went up\n",
      "went right\n",
      "went down\n"
     ]
    }
   ],
   "source": [
    "while np.any(np.isin(floor, ['<', '>', '^', 'v'])):\n",
    "\n",
    "    if np.any(floor == '^'):\n",
    "        floor = go_up(floor, obstacles)\n",
    "\n",
    "    elif np.any(floor=='v'):\n",
    "        floor = go_down(floor, obstacles)\n",
    "\n",
    "    elif np.any(floor=='>'):\n",
    "        floor= go_right(floor, obstacles)\n",
    "\n",
    "    elif np.any(floor=='<'):\n",
    "        floor= go_left(floor, obstacles)\n"
   ]
  },
  {
   "cell_type": "code",
   "execution_count": 15,
   "metadata": {},
   "outputs": [
    {
     "name": "stdout",
     "output_type": "stream",
     "text": [
      "the number of locations is: 41\n"
     ]
    },
    {
     "data": {
      "text/plain": [
       "array([['.', '.', '.', '.', '#', '.', '.', '.', '.', '.'],\n",
       "       ['.', '.', '.', '.', 'X', 'X', 'X', 'X', 'X', '#'],\n",
       "       ['.', '.', '.', '.', 'X', '.', '.', '.', 'X', '.'],\n",
       "       ['.', '.', '#', '.', 'X', '.', '.', '.', 'X', '.'],\n",
       "       ['.', '.', 'X', 'X', 'X', 'X', 'X', '#', 'X', '.'],\n",
       "       ['.', '.', 'X', '.', 'X', '.', 'X', '.', 'X', '.'],\n",
       "       ['.', '#', 'X', 'X', 'X', 'X', 'X', 'X', 'X', '.'],\n",
       "       ['.', 'X', 'X', 'X', 'X', 'X', 'X', 'X', '#', '.'],\n",
       "       ['#', 'X', 'X', 'X', 'X', 'X', 'X', 'X', '.', '.'],\n",
       "       ['.', '.', '.', '.', '.', '.', '#', 'X', '.', '.']], dtype='<U1')"
      ]
     },
     "execution_count": 15,
     "metadata": {},
     "output_type": "execute_result"
    }
   ],
   "source": [
    "# count the number of X in the floor\n",
    "nox = np.where(floor  == 'X')\n",
    "print('the number of locations is:', len(nox[0]))\n",
    "floor"
   ]
  },
  {
   "cell_type": "code",
   "execution_count": null,
   "metadata": {},
   "outputs": [],
   "source": []
  }
 ],
 "metadata": {
  "kernelspec": {
   "display_name": "Python 3",
   "language": "python",
   "name": "python3"
  },
  "language_info": {
   "codemirror_mode": {
    "name": "ipython",
    "version": 3
   },
   "file_extension": ".py",
   "mimetype": "text/x-python",
   "name": "python",
   "nbconvert_exporter": "python",
   "pygments_lexer": "ipython3",
   "version": "3.10.12"
  }
 },
 "nbformat": 4,
 "nbformat_minor": 2
}
